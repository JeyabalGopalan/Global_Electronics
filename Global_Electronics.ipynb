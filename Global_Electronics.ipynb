{
 "cells": [
  {
   "cell_type": "markdown",
   "id": "06702b75-a3c0-4568-9ab2-42b59d686adf",
   "metadata": {},
   "source": [
    "# Step 1 -> Importing the dataset"
   ]
  },
  {
   "cell_type": "code",
   "execution_count": 14,
   "id": "42e9d215-b5e8-41c3-bca8-c8ca4df25170",
   "metadata": {},
   "outputs": [],
   "source": [
    "import pandas as pd \n",
    "import numpy as np \n",
    "import matplotlib.pyplot as plt \n",
    "import seaborn as sns\n",
    "from datetime import datetime"
   ]
  },
  {
   "cell_type": "markdown",
   "id": "2d321578-74b1-46ea-9f0b-d63560c464f2",
   "metadata": {},
   "source": [
    "# Step 2 -> Loading the dataset"
   ]
  },
  {
   "cell_type": "code",
   "execution_count": 16,
   "id": "78c9e94f-eb39-4051-a843-1b68965231d0",
   "metadata": {},
   "outputs": [
    {
     "data": {
      "text/html": [
       "<div>\n",
       "<style scoped>\n",
       "    .dataframe tbody tr th:only-of-type {\n",
       "        vertical-align: middle;\n",
       "    }\n",
       "\n",
       "    .dataframe tbody tr th {\n",
       "        vertical-align: top;\n",
       "    }\n",
       "\n",
       "    .dataframe thead th {\n",
       "        text-align: right;\n",
       "    }\n",
       "</style>\n",
       "<table border=\"1\" class=\"dataframe\">\n",
       "  <thead>\n",
       "    <tr style=\"text-align: right;\">\n",
       "      <th></th>\n",
       "      <th>Order Number</th>\n",
       "      <th>Line Item</th>\n",
       "      <th>Order Date</th>\n",
       "      <th>Delivery Date</th>\n",
       "      <th>CustomerKey</th>\n",
       "      <th>StoreKey</th>\n",
       "      <th>ProductKey</th>\n",
       "      <th>Quantity</th>\n",
       "      <th>Currency Code</th>\n",
       "      <th>Date</th>\n",
       "      <th>...</th>\n",
       "      <th>Unit Cost USD</th>\n",
       "      <th>Unit Price USD</th>\n",
       "      <th>SubcategoryKey</th>\n",
       "      <th>Subcategory</th>\n",
       "      <th>CategoryKey</th>\n",
       "      <th>Category</th>\n",
       "      <th>Country_y</th>\n",
       "      <th>State_y</th>\n",
       "      <th>Square Meters</th>\n",
       "      <th>Open Date</th>\n",
       "    </tr>\n",
       "  </thead>\n",
       "  <tbody>\n",
       "    <tr>\n",
       "      <th>0</th>\n",
       "      <td>366000</td>\n",
       "      <td>1</td>\n",
       "      <td>1/1/2016</td>\n",
       "      <td>NaN</td>\n",
       "      <td>265598</td>\n",
       "      <td>10</td>\n",
       "      <td>1304</td>\n",
       "      <td>1</td>\n",
       "      <td>CAD</td>\n",
       "      <td>1/1/2016</td>\n",
       "      <td>...</td>\n",
       "      <td>$31.27</td>\n",
       "      <td>$68.00</td>\n",
       "      <td>406</td>\n",
       "      <td>Cameras &amp; Camcorders Accessories</td>\n",
       "      <td>4</td>\n",
       "      <td>Cameras and camcorders</td>\n",
       "      <td>Canada</td>\n",
       "      <td>Nunavut</td>\n",
       "      <td>1210.0</td>\n",
       "      <td>4/4/2015</td>\n",
       "    </tr>\n",
       "    <tr>\n",
       "      <th>1</th>\n",
       "      <td>1998016</td>\n",
       "      <td>1</td>\n",
       "      <td>6/20/2020</td>\n",
       "      <td>NaN</td>\n",
       "      <td>399053</td>\n",
       "      <td>10</td>\n",
       "      <td>87</td>\n",
       "      <td>5</td>\n",
       "      <td>CAD</td>\n",
       "      <td>6/20/2020</td>\n",
       "      <td>...</td>\n",
       "      <td>$45.98</td>\n",
       "      <td>$99.99</td>\n",
       "      <td>106</td>\n",
       "      <td>Bluetooth Headphones</td>\n",
       "      <td>1</td>\n",
       "      <td>Audio</td>\n",
       "      <td>Canada</td>\n",
       "      <td>Nunavut</td>\n",
       "      <td>1210.0</td>\n",
       "      <td>4/4/2015</td>\n",
       "    </tr>\n",
       "    <tr>\n",
       "      <th>2</th>\n",
       "      <td>1730028</td>\n",
       "      <td>2</td>\n",
       "      <td>9/26/2019</td>\n",
       "      <td>NaN</td>\n",
       "      <td>245143</td>\n",
       "      <td>10</td>\n",
       "      <td>87</td>\n",
       "      <td>6</td>\n",
       "      <td>CAD</td>\n",
       "      <td>9/26/2019</td>\n",
       "      <td>...</td>\n",
       "      <td>$45.98</td>\n",
       "      <td>$99.99</td>\n",
       "      <td>106</td>\n",
       "      <td>Bluetooth Headphones</td>\n",
       "      <td>1</td>\n",
       "      <td>Audio</td>\n",
       "      <td>Canada</td>\n",
       "      <td>Nunavut</td>\n",
       "      <td>1210.0</td>\n",
       "      <td>4/4/2015</td>\n",
       "    </tr>\n",
       "    <tr>\n",
       "      <th>3</th>\n",
       "      <td>2214002</td>\n",
       "      <td>4</td>\n",
       "      <td>1/22/2021</td>\n",
       "      <td>NaN</td>\n",
       "      <td>384783</td>\n",
       "      <td>10</td>\n",
       "      <td>1619</td>\n",
       "      <td>5</td>\n",
       "      <td>CAD</td>\n",
       "      <td>1/22/2021</td>\n",
       "      <td>...</td>\n",
       "      <td>$27.59</td>\n",
       "      <td>$59.99</td>\n",
       "      <td>602</td>\n",
       "      <td>Movie DVD</td>\n",
       "      <td>6</td>\n",
       "      <td>Music, Movies and Audio Books</td>\n",
       "      <td>Canada</td>\n",
       "      <td>Nunavut</td>\n",
       "      <td>1210.0</td>\n",
       "      <td>4/4/2015</td>\n",
       "    </tr>\n",
       "    <tr>\n",
       "      <th>4</th>\n",
       "      <td>1394030</td>\n",
       "      <td>5</td>\n",
       "      <td>10/25/2018</td>\n",
       "      <td>NaN</td>\n",
       "      <td>397223</td>\n",
       "      <td>10</td>\n",
       "      <td>52</td>\n",
       "      <td>1</td>\n",
       "      <td>CAD</td>\n",
       "      <td>10/25/2018</td>\n",
       "      <td>...</td>\n",
       "      <td>$91.95</td>\n",
       "      <td>$199.95</td>\n",
       "      <td>104</td>\n",
       "      <td>Recording Pen</td>\n",
       "      <td>1</td>\n",
       "      <td>Audio</td>\n",
       "      <td>Canada</td>\n",
       "      <td>Nunavut</td>\n",
       "      <td>1210.0</td>\n",
       "      <td>4/4/2015</td>\n",
       "    </tr>\n",
       "    <tr>\n",
       "      <th>...</th>\n",
       "      <td>...</td>\n",
       "      <td>...</td>\n",
       "      <td>...</td>\n",
       "      <td>...</td>\n",
       "      <td>...</td>\n",
       "      <td>...</td>\n",
       "      <td>...</td>\n",
       "      <td>...</td>\n",
       "      <td>...</td>\n",
       "      <td>...</td>\n",
       "      <td>...</td>\n",
       "      <td>...</td>\n",
       "      <td>...</td>\n",
       "      <td>...</td>\n",
       "      <td>...</td>\n",
       "      <td>...</td>\n",
       "      <td>...</td>\n",
       "      <td>...</td>\n",
       "      <td>...</td>\n",
       "      <td>...</td>\n",
       "      <td>...</td>\n",
       "    </tr>\n",
       "    <tr>\n",
       "      <th>62879</th>\n",
       "      <td>427005</td>\n",
       "      <td>7</td>\n",
       "      <td>3/2/2016</td>\n",
       "      <td>NaN</td>\n",
       "      <td>129494</td>\n",
       "      <td>2</td>\n",
       "      <td>411</td>\n",
       "      <td>1</td>\n",
       "      <td>AUD</td>\n",
       "      <td>3/2/2016</td>\n",
       "      <td>...</td>\n",
       "      <td>$321.44</td>\n",
       "      <td>$699.00</td>\n",
       "      <td>301</td>\n",
       "      <td>Laptops</td>\n",
       "      <td>3</td>\n",
       "      <td>Computers</td>\n",
       "      <td>Australia</td>\n",
       "      <td>Northern Territory</td>\n",
       "      <td>665.0</td>\n",
       "      <td>1/12/2008</td>\n",
       "    </tr>\n",
       "    <tr>\n",
       "      <th>62880</th>\n",
       "      <td>485004</td>\n",
       "      <td>6</td>\n",
       "      <td>4/29/2016</td>\n",
       "      <td>NaN</td>\n",
       "      <td>105647</td>\n",
       "      <td>2</td>\n",
       "      <td>1510</td>\n",
       "      <td>1</td>\n",
       "      <td>AUD</td>\n",
       "      <td>4/29/2016</td>\n",
       "      <td>...</td>\n",
       "      <td>$65.77</td>\n",
       "      <td>$129.00</td>\n",
       "      <td>504</td>\n",
       "      <td>Smart phones &amp; PDAs</td>\n",
       "      <td>5</td>\n",
       "      <td>Cell phones</td>\n",
       "      <td>Australia</td>\n",
       "      <td>Northern Territory</td>\n",
       "      <td>665.0</td>\n",
       "      <td>1/12/2008</td>\n",
       "    </tr>\n",
       "    <tr>\n",
       "      <th>62881</th>\n",
       "      <td>485004</td>\n",
       "      <td>3</td>\n",
       "      <td>4/29/2016</td>\n",
       "      <td>NaN</td>\n",
       "      <td>105647</td>\n",
       "      <td>2</td>\n",
       "      <td>1983</td>\n",
       "      <td>1</td>\n",
       "      <td>AUD</td>\n",
       "      <td>4/29/2016</td>\n",
       "      <td>...</td>\n",
       "      <td>$220.64</td>\n",
       "      <td>$665.94</td>\n",
       "      <td>803</td>\n",
       "      <td>Microwaves</td>\n",
       "      <td>8</td>\n",
       "      <td>Home Appliances</td>\n",
       "      <td>Australia</td>\n",
       "      <td>Northern Territory</td>\n",
       "      <td>665.0</td>\n",
       "      <td>1/12/2008</td>\n",
       "    </tr>\n",
       "    <tr>\n",
       "      <th>62882</th>\n",
       "      <td>485004</td>\n",
       "      <td>2</td>\n",
       "      <td>4/29/2016</td>\n",
       "      <td>NaN</td>\n",
       "      <td>105647</td>\n",
       "      <td>2</td>\n",
       "      <td>70</td>\n",
       "      <td>7</td>\n",
       "      <td>AUD</td>\n",
       "      <td>4/29/2016</td>\n",
       "      <td>...</td>\n",
       "      <td>$22.05</td>\n",
       "      <td>$47.95</td>\n",
       "      <td>106</td>\n",
       "      <td>Bluetooth Headphones</td>\n",
       "      <td>1</td>\n",
       "      <td>Audio</td>\n",
       "      <td>Australia</td>\n",
       "      <td>Northern Territory</td>\n",
       "      <td>665.0</td>\n",
       "      <td>1/12/2008</td>\n",
       "    </tr>\n",
       "    <tr>\n",
       "      <th>62883</th>\n",
       "      <td>485004</td>\n",
       "      <td>1</td>\n",
       "      <td>4/29/2016</td>\n",
       "      <td>NaN</td>\n",
       "      <td>105647</td>\n",
       "      <td>2</td>\n",
       "      <td>109</td>\n",
       "      <td>3</td>\n",
       "      <td>AUD</td>\n",
       "      <td>4/29/2016</td>\n",
       "      <td>...</td>\n",
       "      <td>$61.16</td>\n",
       "      <td>$132.99</td>\n",
       "      <td>106</td>\n",
       "      <td>Bluetooth Headphones</td>\n",
       "      <td>1</td>\n",
       "      <td>Audio</td>\n",
       "      <td>Australia</td>\n",
       "      <td>Northern Territory</td>\n",
       "      <td>665.0</td>\n",
       "      <td>1/12/2008</td>\n",
       "    </tr>\n",
       "  </tbody>\n",
       "</table>\n",
       "<p>62884 rows × 34 columns</p>\n",
       "</div>"
      ],
      "text/plain": [
       "       Order Number  Line Item  Order Date Delivery Date  CustomerKey  \\\n",
       "0            366000          1    1/1/2016           NaN       265598   \n",
       "1           1998016          1   6/20/2020           NaN       399053   \n",
       "2           1730028          2   9/26/2019           NaN       245143   \n",
       "3           2214002          4   1/22/2021           NaN       384783   \n",
       "4           1394030          5  10/25/2018           NaN       397223   \n",
       "...             ...        ...         ...           ...          ...   \n",
       "62879        427005          7    3/2/2016           NaN       129494   \n",
       "62880        485004          6   4/29/2016           NaN       105647   \n",
       "62881        485004          3   4/29/2016           NaN       105647   \n",
       "62882        485004          2   4/29/2016           NaN       105647   \n",
       "62883        485004          1   4/29/2016           NaN       105647   \n",
       "\n",
       "       StoreKey  ProductKey  Quantity Currency Code        Date  ...  \\\n",
       "0            10        1304         1           CAD    1/1/2016  ...   \n",
       "1            10          87         5           CAD   6/20/2020  ...   \n",
       "2            10          87         6           CAD   9/26/2019  ...   \n",
       "3            10        1619         5           CAD   1/22/2021  ...   \n",
       "4            10          52         1           CAD  10/25/2018  ...   \n",
       "...         ...         ...       ...           ...         ...  ...   \n",
       "62879         2         411         1           AUD    3/2/2016  ...   \n",
       "62880         2        1510         1           AUD   4/29/2016  ...   \n",
       "62881         2        1983         1           AUD   4/29/2016  ...   \n",
       "62882         2          70         7           AUD   4/29/2016  ...   \n",
       "62883         2         109         3           AUD   4/29/2016  ...   \n",
       "\n",
       "      Unit Cost USD  Unit Price USD SubcategoryKey  \\\n",
       "0           $31.27          $68.00             406   \n",
       "1           $45.98          $99.99             106   \n",
       "2           $45.98          $99.99             106   \n",
       "3           $27.59          $59.99             602   \n",
       "4           $91.95         $199.95             104   \n",
       "...             ...             ...            ...   \n",
       "62879      $321.44         $699.00             301   \n",
       "62880       $65.77         $129.00             504   \n",
       "62881      $220.64         $665.94             803   \n",
       "62882       $22.05          $47.95             106   \n",
       "62883       $61.16         $132.99             106   \n",
       "\n",
       "                            Subcategory CategoryKey  \\\n",
       "0      Cameras & Camcorders Accessories           4   \n",
       "1                  Bluetooth Headphones           1   \n",
       "2                  Bluetooth Headphones           1   \n",
       "3                             Movie DVD           6   \n",
       "4                         Recording Pen           1   \n",
       "...                                 ...         ...   \n",
       "62879                           Laptops           3   \n",
       "62880               Smart phones & PDAs           5   \n",
       "62881                        Microwaves           8   \n",
       "62882              Bluetooth Headphones           1   \n",
       "62883              Bluetooth Headphones           1   \n",
       "\n",
       "                            Category  Country_y             State_y  \\\n",
       "0             Cameras and camcorders     Canada             Nunavut   \n",
       "1                              Audio     Canada             Nunavut   \n",
       "2                              Audio     Canada             Nunavut   \n",
       "3      Music, Movies and Audio Books     Canada             Nunavut   \n",
       "4                              Audio     Canada             Nunavut   \n",
       "...                              ...        ...                 ...   \n",
       "62879                      Computers  Australia  Northern Territory   \n",
       "62880                    Cell phones  Australia  Northern Territory   \n",
       "62881                Home Appliances  Australia  Northern Territory   \n",
       "62882                          Audio  Australia  Northern Territory   \n",
       "62883                          Audio  Australia  Northern Territory   \n",
       "\n",
       "      Square Meters  Open Date  \n",
       "0            1210.0   4/4/2015  \n",
       "1            1210.0   4/4/2015  \n",
       "2            1210.0   4/4/2015  \n",
       "3            1210.0   4/4/2015  \n",
       "4            1210.0   4/4/2015  \n",
       "...             ...        ...  \n",
       "62879         665.0  1/12/2008  \n",
       "62880         665.0  1/12/2008  \n",
       "62881         665.0  1/12/2008  \n",
       "62882         665.0  1/12/2008  \n",
       "62883         665.0  1/12/2008  \n",
       "\n",
       "[62884 rows x 34 columns]"
      ]
     },
     "execution_count": 16,
     "metadata": {},
     "output_type": "execute_result"
    }
   ],
   "source": [
    "# Load datasets\n",
    "Sales = pd.read_csv(r\"C:\\Users\\jeyaj\\Downloads\\GUVI\\Mini-Project 2\\Sales.csv\", encoding='Windows-1252')\n",
    "Customer = pd.read_csv(r\"C:\\Users\\jeyaj\\Downloads\\GUVI\\Mini-Project 2\\Customers.csv\", encoding='Windows-1252')\n",
    "Products = pd.read_csv(r\"C:\\Users\\jeyaj\\Downloads\\GUVI\\Mini-Project 2\\Products.csv\", encoding='Windows-1252')\n",
    "Stores = pd.read_csv(r\"C:\\Users\\jeyaj\\Downloads\\GUVI\\Mini-Project 2\\Stores.csv\", encoding='Windows-1252')\n",
    "Exchange_rates = pd.read_csv(r\"C:\\Users\\jeyaj\\Downloads\\GUVI\\Mini-Project 2\\Exchange_rates.csv\", encoding='Windows-1252')\n",
    "\n",
    "\n",
    "# Step 1.1: Merge the dataset of Sales and Exchange_Rates with unique column on 'Order Data' and 'Currrency'\n",
    "merged_dataset_1 = pd.merge(Sales, Exchange_rates, left_on=['Order Date', 'Currency Code'], right_on= ['Date', 'Currency'], how='inner')\n",
    "\n",
    "# Step 1.2: Merge Sales and Customer datasets on 'CustomerKey'\n",
    "merged_dataset_2 = pd.merge(merged_dataset_1, Customer, on='CustomerKey', how='inner')\n",
    "\n",
    "# Step 1.3: Merge the result with Products dataset on 'ProductKey'\n",
    "merged_dataset_3 = pd.merge(merged_dataset_2, Products, on='ProductKey', how='inner')\n",
    "\n",
    "# Step 1.4: Merge the result with Stores dataset on 'StoreKey'\n",
    "df = pd.merge(merged_dataset_3, Stores, on='StoreKey', how='inner')\n",
    "\n",
    "df"
   ]
  },
  {
   "cell_type": "markdown",
   "id": "00d3af38-7647-46a2-ab50-0a7eae1e3ce6",
   "metadata": {},
   "source": [
    "  "
   ]
  },
  {
   "cell_type": "markdown",
   "id": "692bbacc-f94c-4f33-884c-6f3989ed586b",
   "metadata": {},
   "source": [
    "# Step 3 -> Cleaning the dataset\n",
    "\n",
    "#### 1 => To clean the dataset at first we need to check any missing values, data types and it's shape"
   ]
  },
  {
   "cell_type": "code",
   "execution_count": 19,
   "id": "a9ccbb20-11a2-457b-a1cc-e4599d9c61ff",
   "metadata": {},
   "outputs": [
    {
     "name": "stdout",
     "output_type": "stream",
     "text": [
      "<class 'pandas.core.frame.DataFrame'>\n",
      "RangeIndex: 62884 entries, 0 to 62883\n",
      "Data columns (total 34 columns):\n",
      " #   Column          Non-Null Count  Dtype  \n",
      "---  ------          --------------  -----  \n",
      " 0   Order Number    62884 non-null  int64  \n",
      " 1   Line Item       62884 non-null  int64  \n",
      " 2   Order Date      62884 non-null  object \n",
      " 3   Delivery Date   13165 non-null  object \n",
      " 4   CustomerKey     62884 non-null  int64  \n",
      " 5   StoreKey        62884 non-null  int64  \n",
      " 6   ProductKey      62884 non-null  int64  \n",
      " 7   Quantity        62884 non-null  int64  \n",
      " 8   Currency Code   62884 non-null  object \n",
      " 9   Date            62884 non-null  object \n",
      " 10  Currency        62884 non-null  object \n",
      " 11  Exchange        62884 non-null  float64\n",
      " 12  Gender          62884 non-null  object \n",
      " 13  Name            62884 non-null  object \n",
      " 14  City            62884 non-null  object \n",
      " 15  State Code      62854 non-null  object \n",
      " 16  State_x         62884 non-null  object \n",
      " 17  Zip Code        62884 non-null  object \n",
      " 18  Country_x       62884 non-null  object \n",
      " 19  Continent       62884 non-null  object \n",
      " 20  Birthday        62884 non-null  object \n",
      " 21  Product Name    62884 non-null  object \n",
      " 22  Brand           62884 non-null  object \n",
      " 23  Color           62884 non-null  object \n",
      " 24  Unit Cost USD   62884 non-null  object \n",
      " 25  Unit Price USD  62884 non-null  object \n",
      " 26  SubcategoryKey  62884 non-null  int64  \n",
      " 27  Subcategory     62884 non-null  object \n",
      " 28  CategoryKey     62884 non-null  int64  \n",
      " 29  Category        62884 non-null  object \n",
      " 30  Country_y       62884 non-null  object \n",
      " 31  State_y         62884 non-null  object \n",
      " 32  Square Meters   49719 non-null  float64\n",
      " 33  Open Date       62884 non-null  object \n",
      "dtypes: float64(2), int64(8), object(24)\n",
      "memory usage: 16.3+ MB\n"
     ]
    },
    {
     "data": {
      "text/plain": [
       "<Axes: >"
      ]
     },
     "execution_count": 19,
     "metadata": {},
     "output_type": "execute_result"
    },
    {
     "data": {
      "image/png": "[encoded data removed]",
      "text/plain": [
       "<Figure size 640x480 with 2 Axes>"
      ]
     },
     "metadata": {},
     "output_type": "display_data"
    }
   ],
   "source": [
    "df.info()\n",
    "\n",
    "sns.heatmap(df.isnull())"
   ]
  },
  {
   "cell_type": "markdown",
   "id": "db01f790-ac8d-48cf-9a23-9a1e9b3cdffe",
   "metadata": {},
   "source": [
    "* => There is almost 79% of missing value in the column `Delivery Date`\n",
    "\n",
    "* => There is also 20% of missing values in the column `Square Meters`\n",
    "\n",
    "* => We need to change the column type from obejct to float for the column `Unit Cost USD` and `Unit Price USD`"
   ]
  },
  {
   "cell_type": "markdown",
   "id": "479892b7-d991-49b9-8dfd-a0a83e6eaf24",
   "metadata": {},
   "source": [
    "### 3.1 => Due to many missing values in column `Delivery Date` we are droping it"
   ]
  },
  {
   "cell_type": "code",
   "execution_count": 22,
   "id": "21372f04-8619-439a-b770-277479590f47",
   "metadata": {},
   "outputs": [],
   "source": [
    "df.drop(['Delivery Date'], axis= 1, inplace = True)"
   ]
  },
  {
   "cell_type": "markdown",
   "id": "79b9dcf8-d78e-4bfa-aed0-fd678e8848ad",
   "metadata": {},
   "source": [
    "### 3.2 => To add missing values in `Square Meters` we are using mean Impute meathod\n",
    "The mean imputation function replaces missing values in a dataset with the mean of the non-missing values in the same column."
   ]
  },
  {
   "cell_type": "code",
   "execution_count": 24,
   "id": "32037439-cf06-4ae7-9377-825dc9b7018b",
   "metadata": {},
   "outputs": [],
   "source": [
    "df['Square Meters'] = df['Square Meters'].fillna(df['Square Meters'].mean())"
   ]
  },
  {
   "cell_type": "markdown",
   "id": "638cb8f1-710d-4c1d-96b8-9ef911053ed5",
   "metadata": {},
   "source": [
    "### 3.3 => There is `$` symbol in the column `Unit Cost USD` and `Unit Price USD` , So we are going to remove and change it's data type"
   ]
  },
  {
   "cell_type": "code",
   "execution_count": 26,
   "id": "2cad15b2-adb0-4a60-b730-193dfd3a82e2",
   "metadata": {},
   "outputs": [],
   "source": [
    "# Remove non-numeric characters (example for commas and dollar signs)\n",
    "df['Unit Cost USD'] = df['Unit Cost USD'].str.replace('[\\$,]', '', regex=True).astype(float)\n",
    "\n",
    "df['Unit Price USD'] = df['Unit Price USD'].str.replace('[\\$,]', '', regex=True).astype(float)"
   ]
  },
  {
   "cell_type": "markdown",
   "id": "8d3c05ac-018c-41f8-9c58-c0564e25ab7c",
   "metadata": {},
   "source": [
    "### 3.4 => Checking any `Nan` values in overall dataset"
   ]
  },
  {
   "cell_type": "code",
   "execution_count": 28,
   "id": "38a283fa-0c4c-450b-a50a-901cca2f97ce",
   "metadata": {},
   "outputs": [
    {
     "data": {
      "text/plain": [
       "['State Code']"
      ]
     },
     "execution_count": 28,
     "metadata": {},
     "output_type": "execute_result"
    }
   ],
   "source": [
    "Nan_state= df.columns[df.isna().any()].tolist() # List of columns with NaN values\n",
    "Nan_state"
   ]
  },
  {
   "cell_type": "code",
   "execution_count": 29,
   "id": "abf898d0-2ab5-454a-bcf6-91d1b52f27e2",
   "metadata": {},
   "outputs": [],
   "source": [
    "# Replacing `nan` values by `Unknown`\n",
    "df['State Code'] = df['State Code'].fillna('Unknown')"
   ]
  },
  {
   "cell_type": "code",
   "execution_count": 30,
   "id": "1c57bff0-5a01-42fd-9757-66e29cafcd1e",
   "metadata": {},
   "outputs": [
    {
     "data": {
      "text/plain": [
       "0"
      ]
     },
     "execution_count": 30,
     "metadata": {},
     "output_type": "execute_result"
    }
   ],
   "source": [
    "nan_count_B = df['State Code'].isna().sum()\n",
    "nan_count_B"
   ]
  },
  {
   "cell_type": "markdown",
   "id": "02be1c4e-c804-4ea1-8dfb-583a9b631171",
   "metadata": {},
   "source": [
    "# Step 4 => Preparation the dataset\n",
    "\n",
    "#### Step 4.1 => Comparing the `Date` column of exchange and `Order Date` of Sales"
   ]
  },
  {
   "cell_type": "code",
   "execution_count": 32,
   "id": "2f612e53-755c-41d0-8274-b92633443427",
   "metadata": {},
   "outputs": [
    {
     "data": {
      "text/plain": [
       "Dates_Equal\n",
       "True    62884\n",
       "Name: count, dtype: int64"
      ]
     },
     "execution_count": 32,
     "metadata": {},
     "output_type": "execute_result"
    }
   ],
   "source": [
    "# Convert the columns to datetime format\n",
    "df['Order Date'] = pd.to_datetime(df['Order Date'])\n",
    "df['Date'] = pd.to_datetime(df['Date'])\n",
    "\n",
    "# Compare the date columns\n",
    "df['Dates_Equal'] = df['Date'] == df['Order Date']  # Check if Start_Date equals End_Date\n",
    "df['Dates_Equal'].value_counts()"
   ]
  },
  {
   "cell_type": "markdown",
   "id": "871b9caf-eb1e-4812-a6cd-b00c3db83f07",
   "metadata": {},
   "source": [
    "#### Both coulmn are containing same date values so we are going to drop one of those column `Date` "
   ]
  },
  {
   "cell_type": "code",
   "execution_count": 34,
   "id": "ddee7765-0558-4c04-94cf-b6dd4b8fd069",
   "metadata": {},
   "outputs": [],
   "source": [
    "df.drop(['Date', 'Dates_Equal'], axis= 1, inplace = True)"
   ]
  },
  {
   "cell_type": "code",
   "execution_count": 65,
   "id": "084da7a4-2059-44a3-b05a-282a031bfedb",
   "metadata": {},
   "outputs": [],
   "source": [
    "df['Order Date'] = pd.to_datetime(df['Order Date'], format=\"%m/%d/%Y\", errors='coerce').dt.date\n",
    "df['Birthday'] = pd.to_datetime(df['Birthday'])\n",
    "df['Open Date'] = pd.to_datetime(df['Open Date'])"
   ]
  },
  {
   "cell_type": "markdown",
   "id": "31cbab20-8cc3-4767-b285-de9ff2affd7f",
   "metadata": {},
   "source": [
    "#### Step 4.2 => To analyse effectively we need to find the profit of the product (`Unit Price USD` - `Unit Cost USD`) and saving as a new column `Profit`"
   ]
  },
  {
   "cell_type": "code",
   "execution_count": 36,
   "id": "2aa05d1c-fa2d-422b-b535-e0346677ba8b",
   "metadata": {},
   "outputs": [],
   "source": [
    "df['Profit'] = df['Unit Price USD']-df['Unit Cost USD']"
   ]
  },
  {
   "cell_type": "markdown",
   "id": "c7c53ed8-3bf3-41b2-a5f8-094b65a4d872",
   "metadata": {},
   "source": [
    "#### Step 4.2 => We going to rename the column names for clear analyization in future"
   ]
  },
  {
   "cell_type": "code",
   "execution_count": 38,
   "id": "85714e36-1f8d-469b-afd4-8fca756b3664",
   "metadata": {},
   "outputs": [],
   "source": [
    "df.rename(columns={'State_x': 'Customer_Sate', 'Country_x': 'Customer_Country', 'City': 'Customer_City'}, inplace=True)\n",
    "df.rename(columns={'State_y': 'Store_Sate', 'Country_y': 'Store_Country' }, inplace=True)"
   ]
  },
  {
   "cell_type": "code",
   "execution_count": 39,
   "id": "9e323eb4-3ee9-43fc-8218-b17e6fb8f537",
   "metadata": {},
   "outputs": [
    {
     "name": "stdout",
     "output_type": "stream",
     "text": [
      "number of duplicates found:0\n"
     ]
    }
   ],
   "source": [
    "duplicates=df.duplicated().sum()\n",
    "print(f\"number of duplicates found:{duplicates}\")"
   ]
  },
  {
   "cell_type": "markdown",
   "id": "135d00cb-a10d-4b10-9238-e7cbe85bcf99",
   "metadata": {},
   "source": [
    "# Step 5 => Saving the Dataset"
   ]
  },
  {
   "cell_type": "code",
   "execution_count": 67,
   "id": "a74717f4-3f44-4a2a-b935-4d6622b44c4e",
   "metadata": {},
   "outputs": [],
   "source": [
    "path = r\"C:\\Users\\jeyaj\\Downloads\\GUVI\\Mini-Project 2\\Global_electronics_project.csv\"\n",
    "df.to_csv(path, index=False)\n",
    "#C:\\Users\\jeyaj\\Downloads\\GUVI\\Mini-Project 2"
   ]
  },
  {
   "cell_type": "markdown",
   "id": "cf7e55c8-66d1-453b-8b4e-205e5ed1bcd1",
   "metadata": {},
   "source": [
    "# Step 5 Connencting to Sql"
   ]
  },
  {
   "cell_type": "code",
   "execution_count": 43,
   "id": "4b6c7dc2-7ec6-4f58-b664-d021a2e989da",
   "metadata": {},
   "outputs": [
    {
     "data": {
      "text/plain": [
       "0"
      ]
     },
     "execution_count": 43,
     "metadata": {},
     "output_type": "execute_result"
    }
   ],
   "source": [
    "import pymysql\n",
    "\n",
    "conn = pymysql.connect(host='127.0.0.1', user='root', passwd='Mysql@17072000')\n",
    "cur = conn.cursor()\n",
    "\n",
    "# Create database if it doesn't exist\n",
    "cur.execute(\"CREATE DATABASE IF NOT EXISTS Global_electronics_project\")\n",
    "\n",
    "cur.execute(\"USE Global_electronics_project\")"
   ]
  },
  {
   "cell_type": "code",
   "execution_count": 44,
   "id": "9e0f54ad-9318-4144-ad48-36ea204221fd",
   "metadata": {},
   "outputs": [
    {
     "name": "stdout",
     "output_type": "stream",
     "text": [
      "Table Created\n"
     ]
    }
   ],
   "source": [
    "# Create table query\n",
    "cur.execute('''\n",
    "    CREATE TABLE IF NOT EXISTS Overall_data (\n",
    "        Order_Number INTEGER,\n",
    "        Line_Item INTEGER NOT NULL,\n",
    "        Order_Date VARCHAR(255) NOT NULL,\n",
    "        CustomerKey INTEGER NOT NULL,\n",
    "        StoreKey INTEGER NOT NULL,\n",
    "        ProductKey INTEGER NOT NULL,\n",
    "        Quantity INTEGER NOT NULL,\n",
    "        Currency_Code VARCHAR(255) NOT NULL,\n",
    "        Currency VARCHAR(255) NOT NULL,\n",
    "        Exchange FLOAT NULL,        \n",
    "        \n",
    "        Gender VARCHAR(255) NULL,\n",
    "        Name VARCHAR(255) NULL,        \n",
    "        Customer_City VARCHAR(255) NULL,\n",
    "        State_Code VARCHAR(255) NULL,\n",
    "        Customer_State VARCHAR(255) NULL,\n",
    "        Zip_Code VARCHAR(255) NULL,\n",
    "        Customer_Country VARCHAR(255) NULL,\n",
    "        Continent VARCHAR(255) NULL,\n",
    "        Birthday VARCHAR(255) NULL,\n",
    "        Product_Name VARCHAR(255) NULL,\n",
    "        \n",
    "        Brand VARCHAR(255) NULL,\n",
    "        Color VARCHAR(255) NULL,\n",
    "        Unit_Cost_USD FLOAT NULL,\n",
    "        Unit_Price_USD FLOAT NULL,\n",
    "        SubcategoryKey INTEGER NOT NULL,\n",
    "        Subcategory VARCHAR(255) NOT NULL,\n",
    "        CategoryKey INTEGER NOT NULL,\n",
    "        Category VARCHAR(255) NOT NULL,\n",
    "        Store_Country VARCHAR(255) NULL,\n",
    "        Store_State VARCHAR(255) NULL,\n",
    "        \n",
    "        Square_Meters FLOAT NULL,\n",
    "        Open_Date VARCHAR(255) NULL,\n",
    "        Profit FLOAT NULL\n",
    "    )\n",
    "''')\n",
    "\n",
    "print(\"Table Created\")"
   ]
  },
  {
   "cell_type": "code",
   "execution_count": 45,
   "id": "ed0af086-9beb-4204-aae5-23bd245568f6",
   "metadata": {},
   "outputs": [
    {
     "name": "stdout",
     "output_type": "stream",
     "text": [
      "Data Inserted Successfully\n"
     ]
    }
   ],
   "source": [
    "Insert_data = '''\n",
    "    INSERT INTO Overall_data (\n",
    "        Order_Number, \n",
    "        Line_Item, \n",
    "        Order_Date, \n",
    "        CustomerKey, \n",
    "        StoreKey, \n",
    "        ProductKey, \n",
    "        Quantity, \n",
    "        Currency_Code,  \n",
    "        Currency, \n",
    "        Exchange, \n",
    "        \n",
    "        Gender, \n",
    "        Name, \n",
    "        Customer_City, \n",
    "        State_Code, \n",
    "        Customer_State, \n",
    "        Zip_Code, \n",
    "        Customer_Country, \n",
    "        Continent, \n",
    "        Birthday, \n",
    "        Product_Name, \n",
    "        \n",
    "        Brand, \n",
    "        Color, \n",
    "        Unit_Cost_USD, \n",
    "        Unit_Price_USD, \n",
    "        SubcategoryKey, \n",
    "        Subcategory, \n",
    "        CategoryKey, \n",
    "        Category, \n",
    "        Store_Country, \n",
    "        Store_State, \n",
    "        \n",
    "        Square_Meters, \n",
    "        Open_Date, \n",
    "        Profit\n",
    "    ) \n",
    "   VALUES ( %s, %s, %s, %s, %s, %s, %s, %s, %s, %s,  %s, %s, %s,  %s, %s, %s, %s, %s, %s, %s, %s, %s, %s,  %s, %s, %s, %s, %s, %s, %s, %s, %s, %s)\n",
    "'''\n",
    "Data = df.values.tolist()\n",
    "\n",
    "try:\n",
    "    # Insert data row by row\n",
    "    for row in Data:\n",
    "        try:\n",
    "            cur.execute(Insert_data, row)\n",
    "        except Exception as e:\n",
    "            print(f\"Error inserting row {row}: {e}\")\n",
    "            conn.rollback()\n",
    "    conn.commit()\n",
    "    print(\"Data Inserted Successfully\")\n",
    "except Exception as e:\n",
    "    conn.rollback()\n",
    "    print(f\"Error during insertion: {e}\")\n",
    "finally:\n",
    "    conn.close()"
   ]
  },
  {
   "cell_type": "code",
   "execution_count": null,
   "id": "154fc950-2f7f-441e-9a40-119ddb93df10",
   "metadata": {},
   "outputs": [],
   "source": []
  }
 ],
 "metadata": {
  "kernelspec": {
   "display_name": "Python 3 (ipykernel)",
   "language": "python",
   "name": "python3"
  },
  "language_info": {
   "codemirror_mode": {
    "name": "ipython",
    "version": 3
   },
   "file_extension": ".py",
   "mimetype": "text/x-python",
   "name": "python",
   "nbconvert_exporter": "python",
   "pygments_lexer": "ipython3",
   "version": "3.11.7"
  }
 },
 "nbformat": 4,
 "nbformat_minor": 5
}
